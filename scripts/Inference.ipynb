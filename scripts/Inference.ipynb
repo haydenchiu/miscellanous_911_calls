{
 "cells": [
  {
   "cell_type": "markdown",
   "id": "11ddf82c-e6f8-4451-a879-7e474f9dbef3",
   "metadata": {},
   "source": [
    "## BERTopic Inference"
   ]
  },
  {
   "cell_type": "markdown",
   "id": "f5456218-1144-416c-ad44-3385147c4445",
   "metadata": {},
   "source": [
    "We can use this notebook to create new `.xlsx` files with new data (i.e., data that are not involved in the original 3-months training data).  \n"
   ]
  },
  {
   "cell_type": "code",
   "execution_count": 7,
   "id": "52c50e79-3d9f-4477-8989-fcb14c050035",
   "metadata": {},
   "outputs": [
    {
     "ename": "ModuleNotFoundError",
     "evalue": "No module named 'numpy.strings'",
     "output_type": "error",
     "traceback": [
      "\u001b[0;31m---------------------------------------------------------------------------\u001b[0m",
      "\u001b[0;31mModuleNotFoundError\u001b[0m                       Traceback (most recent call last)",
      "Cell \u001b[0;32mIn[7], line 7\u001b[0m\n\u001b[1;32m      4\u001b[0m \u001b[38;5;28;01mimport\u001b[39;00m \u001b[38;5;21;01mre\u001b[39;00m\n\u001b[1;32m      5\u001b[0m \u001b[38;5;28;01mfrom\u001b[39;00m \u001b[38;5;21;01mtqdm\u001b[39;00m\u001b[38;5;21;01m.\u001b[39;00m\u001b[38;5;21;01mauto\u001b[39;00m \u001b[38;5;28;01mimport\u001b[39;00m tqdm\n\u001b[0;32m----> 7\u001b[0m \u001b[38;5;28;01mfrom\u001b[39;00m \u001b[38;5;21;01mbertopic\u001b[39;00m \u001b[38;5;28;01mimport\u001b[39;00m BERTopic\n",
      "File \u001b[0;32m~/miniconda3/envs/mdscl_capstone_env/lib/python3.11/site-packages/bertopic/__init__.py:1\u001b[0m\n\u001b[0;32m----> 1\u001b[0m \u001b[38;5;28;01mfrom\u001b[39;00m \u001b[38;5;21;01mbertopic\u001b[39;00m\u001b[38;5;21;01m.\u001b[39;00m\u001b[38;5;21;01m_bertopic\u001b[39;00m \u001b[38;5;28;01mimport\u001b[39;00m BERTopic\n\u001b[1;32m      3\u001b[0m __version__ \u001b[38;5;241m=\u001b[39m \u001b[38;5;124m\"\u001b[39m\u001b[38;5;124m0.16.2\u001b[39m\u001b[38;5;124m\"\u001b[39m\n\u001b[1;32m      5\u001b[0m __all__ \u001b[38;5;241m=\u001b[39m [\n\u001b[1;32m      6\u001b[0m     \u001b[38;5;124m\"\u001b[39m\u001b[38;5;124mBERTopic\u001b[39m\u001b[38;5;124m\"\u001b[39m,\n\u001b[1;32m      7\u001b[0m ]\n",
      "File \u001b[0;32m~/miniconda3/envs/mdscl_capstone_env/lib/python3.11/site-packages/bertopic/_bertopic.py:18\u001b[0m\n\u001b[1;32m     16\u001b[0m \u001b[38;5;28;01mimport\u001b[39;00m \u001b[38;5;21;01mnumpy\u001b[39;00m \u001b[38;5;28;01mas\u001b[39;00m \u001b[38;5;21;01mnp\u001b[39;00m\n\u001b[1;32m     17\u001b[0m \u001b[38;5;28;01mimport\u001b[39;00m \u001b[38;5;21;01mpandas\u001b[39;00m \u001b[38;5;28;01mas\u001b[39;00m \u001b[38;5;21;01mpd\u001b[39;00m\n\u001b[0;32m---> 18\u001b[0m \u001b[38;5;28;01mimport\u001b[39;00m \u001b[38;5;21;01mscipy\u001b[39;00m\u001b[38;5;21;01m.\u001b[39;00m\u001b[38;5;21;01msparse\u001b[39;00m \u001b[38;5;28;01mas\u001b[39;00m \u001b[38;5;21;01msp\u001b[39;00m\n\u001b[1;32m     20\u001b[0m \u001b[38;5;28;01mfrom\u001b[39;00m \u001b[38;5;21;01mtqdm\u001b[39;00m \u001b[38;5;28;01mimport\u001b[39;00m tqdm\n\u001b[1;32m     21\u001b[0m \u001b[38;5;28;01mfrom\u001b[39;00m \u001b[38;5;21;01mpathlib\u001b[39;00m \u001b[38;5;28;01mimport\u001b[39;00m Path\n",
      "File \u001b[0;32m~/miniconda3/envs/mdscl_capstone_env/lib/python3.11/site-packages/scipy/sparse/__init__.py:293\u001b[0m\n\u001b[1;32m    287\u001b[0m \u001b[38;5;66;03m# Original code by Travis Oliphant.\u001b[39;00m\n\u001b[1;32m    288\u001b[0m \u001b[38;5;66;03m# Modified and extended by Ed Schofield, Robert Cimrman,\u001b[39;00m\n\u001b[1;32m    289\u001b[0m \u001b[38;5;66;03m# Nathan Bell, and Jake Vanderplas.\u001b[39;00m\n\u001b[1;32m    291\u001b[0m \u001b[38;5;28;01mimport\u001b[39;00m \u001b[38;5;21;01mwarnings\u001b[39;00m \u001b[38;5;28;01mas\u001b[39;00m \u001b[38;5;21;01m_warnings\u001b[39;00m\n\u001b[0;32m--> 293\u001b[0m \u001b[38;5;28;01mfrom\u001b[39;00m \u001b[38;5;21;01m.\u001b[39;00m\u001b[38;5;21;01m_base\u001b[39;00m \u001b[38;5;28;01mimport\u001b[39;00m \u001b[38;5;241m*\u001b[39m\n\u001b[1;32m    294\u001b[0m \u001b[38;5;28;01mfrom\u001b[39;00m \u001b[38;5;21;01m.\u001b[39;00m\u001b[38;5;21;01m_csr\u001b[39;00m \u001b[38;5;28;01mimport\u001b[39;00m \u001b[38;5;241m*\u001b[39m\n\u001b[1;32m    295\u001b[0m \u001b[38;5;28;01mfrom\u001b[39;00m \u001b[38;5;21;01m.\u001b[39;00m\u001b[38;5;21;01m_csc\u001b[39;00m \u001b[38;5;28;01mimport\u001b[39;00m \u001b[38;5;241m*\u001b[39m\n",
      "File \u001b[0;32m~/miniconda3/envs/mdscl_capstone_env/lib/python3.11/site-packages/scipy/sparse/_base.py:5\u001b[0m\n\u001b[1;32m      1\u001b[0m \u001b[38;5;124;03m\"\"\"Base class for sparse matrices\"\"\"\u001b[39;00m\n\u001b[1;32m      3\u001b[0m \u001b[38;5;28;01mimport\u001b[39;00m \u001b[38;5;21;01mnumpy\u001b[39;00m \u001b[38;5;28;01mas\u001b[39;00m \u001b[38;5;21;01mnp\u001b[39;00m\n\u001b[0;32m----> 5\u001b[0m \u001b[38;5;28;01mfrom\u001b[39;00m \u001b[38;5;21;01m.\u001b[39;00m\u001b[38;5;21;01m_sputils\u001b[39;00m \u001b[38;5;28;01mimport\u001b[39;00m (asmatrix, check_reshape_kwargs, check_shape,\n\u001b[1;32m      6\u001b[0m                        get_sum_dtype, isdense, isscalarlike,\n\u001b[1;32m      7\u001b[0m                        matrix, validateaxis,)\n\u001b[1;32m      9\u001b[0m \u001b[38;5;28;01mfrom\u001b[39;00m \u001b[38;5;21;01m.\u001b[39;00m\u001b[38;5;21;01m_matrix\u001b[39;00m \u001b[38;5;28;01mimport\u001b[39;00m spmatrix\n\u001b[1;32m     11\u001b[0m __all__ \u001b[38;5;241m=\u001b[39m [\u001b[38;5;124m'\u001b[39m\u001b[38;5;124misspmatrix\u001b[39m\u001b[38;5;124m'\u001b[39m, \u001b[38;5;124m'\u001b[39m\u001b[38;5;124missparse\u001b[39m\u001b[38;5;124m'\u001b[39m, \u001b[38;5;124m'\u001b[39m\u001b[38;5;124msparray\u001b[39m\u001b[38;5;124m'\u001b[39m,\n\u001b[1;32m     12\u001b[0m            \u001b[38;5;124m'\u001b[39m\u001b[38;5;124mSparseWarning\u001b[39m\u001b[38;5;124m'\u001b[39m, \u001b[38;5;124m'\u001b[39m\u001b[38;5;124mSparseEfficiencyWarning\u001b[39m\u001b[38;5;124m'\u001b[39m]\n",
      "File \u001b[0;32m~/miniconda3/envs/mdscl_capstone_env/lib/python3.11/site-packages/scipy/sparse/_sputils.py:10\u001b[0m\n\u001b[1;32m      8\u001b[0m \u001b[38;5;28;01mfrom\u001b[39;00m \u001b[38;5;21;01mmath\u001b[39;00m \u001b[38;5;28;01mimport\u001b[39;00m prod\n\u001b[1;32m      9\u001b[0m \u001b[38;5;28;01mimport\u001b[39;00m \u001b[38;5;21;01mscipy\u001b[39;00m\u001b[38;5;21;01m.\u001b[39;00m\u001b[38;5;21;01msparse\u001b[39;00m \u001b[38;5;28;01mas\u001b[39;00m \u001b[38;5;21;01msp\u001b[39;00m\n\u001b[0;32m---> 10\u001b[0m \u001b[38;5;28;01mfrom\u001b[39;00m \u001b[38;5;21;01mscipy\u001b[39;00m\u001b[38;5;21;01m.\u001b[39;00m\u001b[38;5;21;01m_lib\u001b[39;00m\u001b[38;5;21;01m.\u001b[39;00m\u001b[38;5;21;01m_util\u001b[39;00m \u001b[38;5;28;01mimport\u001b[39;00m np_long, np_ulong\n\u001b[1;32m     13\u001b[0m __all__ \u001b[38;5;241m=\u001b[39m [\u001b[38;5;124m'\u001b[39m\u001b[38;5;124mupcast\u001b[39m\u001b[38;5;124m'\u001b[39m, \u001b[38;5;124m'\u001b[39m\u001b[38;5;124mgetdtype\u001b[39m\u001b[38;5;124m'\u001b[39m, \u001b[38;5;124m'\u001b[39m\u001b[38;5;124mgetdata\u001b[39m\u001b[38;5;124m'\u001b[39m, \u001b[38;5;124m'\u001b[39m\u001b[38;5;124misscalarlike\u001b[39m\u001b[38;5;124m'\u001b[39m, \u001b[38;5;124m'\u001b[39m\u001b[38;5;124misintlike\u001b[39m\u001b[38;5;124m'\u001b[39m,\n\u001b[1;32m     14\u001b[0m            \u001b[38;5;124m'\u001b[39m\u001b[38;5;124misshape\u001b[39m\u001b[38;5;124m'\u001b[39m, \u001b[38;5;124m'\u001b[39m\u001b[38;5;124missequence\u001b[39m\u001b[38;5;124m'\u001b[39m, \u001b[38;5;124m'\u001b[39m\u001b[38;5;124misdense\u001b[39m\u001b[38;5;124m'\u001b[39m, \u001b[38;5;124m'\u001b[39m\u001b[38;5;124mismatrix\u001b[39m\u001b[38;5;124m'\u001b[39m, \u001b[38;5;124m'\u001b[39m\u001b[38;5;124mget_sum_dtype\u001b[39m\u001b[38;5;124m'\u001b[39m]\n\u001b[1;32m     16\u001b[0m supported_dtypes \u001b[38;5;241m=\u001b[39m [np\u001b[38;5;241m.\u001b[39mbool_, np\u001b[38;5;241m.\u001b[39mbyte, np\u001b[38;5;241m.\u001b[39mubyte, np\u001b[38;5;241m.\u001b[39mshort, np\u001b[38;5;241m.\u001b[39mushort, np\u001b[38;5;241m.\u001b[39mintc,\n\u001b[1;32m     17\u001b[0m                     np\u001b[38;5;241m.\u001b[39muintc, np_long, np_ulong, np\u001b[38;5;241m.\u001b[39mlonglong, np\u001b[38;5;241m.\u001b[39mulonglong,\n\u001b[1;32m     18\u001b[0m                     np\u001b[38;5;241m.\u001b[39mfloat32, np\u001b[38;5;241m.\u001b[39mfloat64, np\u001b[38;5;241m.\u001b[39mlongdouble, \n\u001b[1;32m     19\u001b[0m                     np\u001b[38;5;241m.\u001b[39mcomplex64, np\u001b[38;5;241m.\u001b[39mcomplex128, np\u001b[38;5;241m.\u001b[39mclongdouble]\n",
      "File \u001b[0;32m~/miniconda3/envs/mdscl_capstone_env/lib/python3.11/site-packages/scipy/_lib/_util.py:18\u001b[0m\n\u001b[1;32m     10\u001b[0m \u001b[38;5;28;01mfrom\u001b[39;00m \u001b[38;5;21;01mtyping\u001b[39;00m \u001b[38;5;28;01mimport\u001b[39;00m (\n\u001b[1;32m     11\u001b[0m     Optional,\n\u001b[1;32m     12\u001b[0m     Union,\n\u001b[1;32m     13\u001b[0m     TYPE_CHECKING,\n\u001b[1;32m     14\u001b[0m     TypeVar,\n\u001b[1;32m     15\u001b[0m )\n\u001b[1;32m     17\u001b[0m \u001b[38;5;28;01mimport\u001b[39;00m \u001b[38;5;21;01mnumpy\u001b[39;00m \u001b[38;5;28;01mas\u001b[39;00m \u001b[38;5;21;01mnp\u001b[39;00m\n\u001b[0;32m---> 18\u001b[0m \u001b[38;5;28;01mfrom\u001b[39;00m \u001b[38;5;21;01mscipy\u001b[39;00m\u001b[38;5;21;01m.\u001b[39;00m\u001b[38;5;21;01m_lib\u001b[39;00m\u001b[38;5;21;01m.\u001b[39;00m\u001b[38;5;21;01m_array_api\u001b[39;00m \u001b[38;5;28;01mimport\u001b[39;00m array_namespace, is_numpy, size \u001b[38;5;28;01mas\u001b[39;00m xp_size\n\u001b[1;32m     21\u001b[0m AxisError: \u001b[38;5;28mtype\u001b[39m[\u001b[38;5;167;01mException\u001b[39;00m]\n\u001b[1;32m     22\u001b[0m ComplexWarning: \u001b[38;5;28mtype\u001b[39m[\u001b[38;5;167;01mWarning\u001b[39;00m]\n",
      "File \u001b[0;32m~/miniconda3/envs/mdscl_capstone_env/lib/python3.11/site-packages/scipy/_lib/_array_api.py:21\u001b[0m\n\u001b[1;32m     18\u001b[0m \u001b[38;5;28;01mimport\u001b[39;00m \u001b[38;5;21;01mnumpy\u001b[39;00m\u001b[38;5;21;01m.\u001b[39;00m\u001b[38;5;21;01mtyping\u001b[39;00m \u001b[38;5;28;01mas\u001b[39;00m \u001b[38;5;21;01mnpt\u001b[39;00m\n\u001b[1;32m     20\u001b[0m \u001b[38;5;28;01mfrom\u001b[39;00m \u001b[38;5;21;01mscipy\u001b[39;00m\u001b[38;5;21;01m.\u001b[39;00m\u001b[38;5;21;01m_lib\u001b[39;00m \u001b[38;5;28;01mimport\u001b[39;00m array_api_compat\n\u001b[0;32m---> 21\u001b[0m \u001b[38;5;28;01mfrom\u001b[39;00m \u001b[38;5;21;01mscipy\u001b[39;00m\u001b[38;5;21;01m.\u001b[39;00m\u001b[38;5;21;01m_lib\u001b[39;00m\u001b[38;5;21;01m.\u001b[39;00m\u001b[38;5;21;01marray_api_compat\u001b[39;00m \u001b[38;5;28;01mimport\u001b[39;00m (\n\u001b[1;32m     22\u001b[0m     is_array_api_obj,\n\u001b[1;32m     23\u001b[0m     size,\n\u001b[1;32m     24\u001b[0m     numpy \u001b[38;5;28;01mas\u001b[39;00m np_compat,\n\u001b[1;32m     25\u001b[0m     device\n\u001b[1;32m     26\u001b[0m )\n\u001b[1;32m     28\u001b[0m __all__ \u001b[38;5;241m=\u001b[39m [\u001b[38;5;124m'\u001b[39m\u001b[38;5;124marray_namespace\u001b[39m\u001b[38;5;124m'\u001b[39m, \u001b[38;5;124m'\u001b[39m\u001b[38;5;124m_asarray\u001b[39m\u001b[38;5;124m'\u001b[39m, \u001b[38;5;124m'\u001b[39m\u001b[38;5;124msize\u001b[39m\u001b[38;5;124m'\u001b[39m, \u001b[38;5;124m'\u001b[39m\u001b[38;5;124mdevice\u001b[39m\u001b[38;5;124m'\u001b[39m]\n\u001b[1;32m     31\u001b[0m \u001b[38;5;66;03m# To enable array API and strict array-like input validation\u001b[39;00m\n",
      "File \u001b[0;32m~/miniconda3/envs/mdscl_capstone_env/lib/python3.11/site-packages/scipy/_lib/array_api_compat/numpy/__init__.py:1\u001b[0m\n\u001b[0;32m----> 1\u001b[0m \u001b[38;5;28;01mfrom\u001b[39;00m \u001b[38;5;21;01mnumpy\u001b[39;00m \u001b[38;5;28;01mimport\u001b[39;00m \u001b[38;5;241m*\u001b[39m \u001b[38;5;66;03m# noqa: F403\u001b[39;00m\n\u001b[1;32m      3\u001b[0m \u001b[38;5;66;03m# from numpy import * doesn't overwrite these builtin names\u001b[39;00m\n\u001b[1;32m      4\u001b[0m \u001b[38;5;28;01mfrom\u001b[39;00m \u001b[38;5;21;01mnumpy\u001b[39;00m \u001b[38;5;28;01mimport\u001b[39;00m \u001b[38;5;28mabs\u001b[39m, \u001b[38;5;28mmax\u001b[39m, \u001b[38;5;28mmin\u001b[39m, \u001b[38;5;28mround\u001b[39m \u001b[38;5;66;03m# noqa: F401\u001b[39;00m\n",
      "File \u001b[0;32m~/miniconda3/envs/mdscl_capstone_env/lib/python3.11/site-packages/numpy/__init__.py:376\u001b[0m, in \u001b[0;36m__getattr__\u001b[0;34m(attr)\u001b[0m\n\u001b[1;32m      0\u001b[0m <Error retrieving source code with stack_data see ipython/ipython#13598>\n",
      "\u001b[0;31mModuleNotFoundError\u001b[0m: No module named 'numpy.strings'"
     ]
    }
   ],
   "source": [
    "import preprocess\n",
    "import numpy as np\n",
    "import pandas as pd\n",
    "import re\n",
    "from tqdm.auto import tqdm\n",
    "\n",
    "from bertopic import BERTopic"
   ]
  },
  {
   "cell_type": "code",
   "execution_count": 2,
   "id": "b7dc83b3-de47-4848-8153-a48d3440d459",
   "metadata": {},
   "outputs": [],
   "source": [
    "# setting to display progress bars\n",
    "tqdm.pandas()"
   ]
  },
  {
   "cell_type": "markdown",
   "id": "55087633-8e94-4f58-9565-8ce91e59d5d5",
   "metadata": {},
   "source": [
    "## Read and preprocess new data"
   ]
  },
  {
   "cell_type": "markdown",
   "id": "6bc611b8-816b-4116-8bd1-85aca65b688c",
   "metadata": {},
   "source": [
    "Here please read new data that you would like to be processed by the model we previously trained.  \n",
    "As an example, we have the training data read here.  \n",
    "You should change the variables `passwd` and `path_to_data` that fits the new data files  \n",
    "Please be reminded that the new data should be in the same format as our training data (i.e., `CONFIDENTIAL_2024UBC_X99_3-Month-DataSet-REDACTED-Shared 2024-05-15.xlsx`)"
   ]
  },
  {
   "cell_type": "code",
   "execution_count": 3,
   "id": "80f6954c-e030-4403-b795-9b0bd72d9ff1",
   "metadata": {},
   "outputs": [],
   "source": [
    "passwd = 'Capstone_2024' # please edit this to the password for the new data file\n",
    "\n",
    "path_to_data = \"../data/CONFIDENTIAL_2024UBC_X99_3-Month-DataSet-REDACTED-Shared 2024-05-15.xlsx\" # please change this to the path of the new data file\n",
    "\n",
    "# this `read_encrypted_data` function is designed to read data that are saved in the same format as the training data provided\n",
    "# i.e., CONFIDENTIAL_2024UBC_X99_3-Month-DataSet-REDACTED-Shared 2024-05-15.xlsx\n",
    "\n",
    "# To run this function properly with new data, please make sure the new data are saved in the same format\n",
    "data = preprocess.read_encrypted_data(passwd = passwd, path_to_data = path_to_data)\n",
    "df = preprocess.reformat_data(data)"
   ]
  },
  {
   "cell_type": "code",
   "execution_count": 4,
   "id": "f9e2ae0d-bfd5-44f9-8dbe-1a3b9d25c503",
   "metadata": {},
   "outputs": [],
   "source": [
    "# glossary is a dictionary that contains police jargon acronyms as key and their meanings as values\n",
    "glossary = {\n",
    "    \"CO\": \"Complainant\",\n",
    "    \"VI\": \"Victim\",\n",
    "    \"OFF\": \"Offender\",\n",
    "    \"VREG\": \"Vehicle Registration\",\n",
    "    \"LRT\": \"Light Rail Transit\", \n",
    "    #\"Standby\":\t\"Police presence requested to remove belongings from a location\",\n",
    "    \"REG\":\t\"Regimental number of officer\",\n",
    "    \"UNIT\":\t\"police vehicle unit\",\n",
    "    \"BMQ\":\t\"Broadcast Message Question (message broadcasted over the police radio instead of CAD to alert units)\",\n",
    "    \"RTOC\":\t\"Real Time Operations Centre\",\n",
    "    \"CSS\":\t\"Court Services Section\",\n",
    "    \"ECO\":\t\"Emergency Call Operator (call taker at 911)\",\n",
    "    \"KOC\":\t\"Knows of call (indicates Duty Sergeant (Sgt.) is aware of event)\",\n",
    "    \"CST\":\t\"Constable/Officer\",\n",
    "    \"SENTRY\": \"The Police Records System\",\n",
    "    #\"Event Priority\":\t'Level of response required (see \"Data Column Summary\" for a breakdown and definition)',\n",
    "    \"APU\":\t\"Arrest Processing Unit\",\n",
    "    \"EPO\":\t\"Emergency Protection Order\",\n",
    "    #\"dispatch cad code\": \"refers to event type code generated by call taking assistance tool. Dispatch CAD codes are mapped to our internal event subtypes (10 codes)\",\n",
    "    #\"cross-referenced\":\t\"some calls may be related, hence will be cross-referenced\",\n",
    "    \"LOI\": \"Location of Interest\",\n",
    "    \"DOAP\":\"Downtown Outreach Addictions Partnership run by Alpha House Society (nonprofit) (CPS partners with various nonprofit agencies providing service to people in need)\",\n",
    "    \"POET\":\"Prolific Offender Engagement Team\",\n",
    "    \"BWC\":\"Body Worn Camera\"\n",
    "}\n",
    "\n",
    "\n",
    "# a function to expand acronyms in a text\n",
    "def hybrid_expand_acronyms(text, glossary=glossary):\n",
    "    for acronym, full_term in glossary.items():\n",
    "        # Use word boundaries to replace only whole words\n",
    "        text = re.sub(rf'\\b{acronym}\\b', f'{acronym} ({full_term})', text)\n",
    "    return text\n",
    "\n",
    "\n",
    "# a function to compile text from the dataframe row\n",
    "def compile_text(x):\n",
    "    text = (\n",
    "        f\"Description of the behavior or criminal offense: {x['Occurrence_Type']}. \\n\" \n",
    "        f\"Broadest level of categorization: {x['Occurrence_Type_UCR_Category']}. \\n\" \n",
    "        f\"Secondary level categorization: {x['Occurrence_Report_Category']}. \\n\"\n",
    "        f\"The priority level assigned to the call by the ECO (911 call taker): {x['Priority']}. \\n\"\n",
    "        f\"Was the call initiated by a member of the public? {x['Public_Generated_Event_Flag']}. \\n\" \n",
    "        f\"Flag that indicates the call was attended in person by an officer: {x['Event_Attended_Flag']}. \\n\"\n",
    "        f\"The log of the event: {hybrid_expand_acronyms(x['Event_Remarks_Text'])}\" \n",
    "    )\n",
    "    text = re.sub(r\"\\[redacted\\]\", \"[MASK]\", text, flags=re.IGNORECASE)\n",
    "    return text\n",
    "\n",
    "\n",
    "# a function to output embeddings\n",
    "def output_embedding(txt, model):\n",
    "    try:\n",
    "        embd = model.encode(txt, device=\"auto\")\n",
    "        return embd\n",
    "    except Exception as e:\n",
    "        print(f\"Error encoding text: {e}\")\n",
    "        return None\n"
   ]
  },
  {
   "cell_type": "code",
   "execution_count": 5,
   "id": "44400b1c-83e2-4de2-8a14-5f5736008635",
   "metadata": {},
   "outputs": [
    {
     "data": {
      "application/vnd.jupyter.widget-view+json": {
       "model_id": "e842d7706ae04f11940a21e3a09e3246",
       "version_major": 2,
       "version_minor": 0
      },
      "text/plain": [
       "  0%|          | 0/9751 [00:00<?, ?it/s]"
      ]
     },
     "metadata": {},
     "output_type": "display_data"
    }
   ],
   "source": [
    "docs = df.progress_apply(lambda x: compile_text(x),axis=1)"
   ]
  },
  {
   "cell_type": "markdown",
   "id": "bae51724-7f1a-43e6-b780-c9a384299f57",
   "metadata": {},
   "source": [
    "## Load Trained BERTopic Model"
   ]
  },
  {
   "cell_type": "code",
   "execution_count": 7,
   "id": "4c0277a8-3194-47f3-ab7f-068be924c2c2",
   "metadata": {},
   "outputs": [],
   "source": [
    "#load previously trained BERTopic model\n",
    "\n",
    "bertopic_model_path = \"../models/tuned_gte_large_model\"\n",
    "\n",
    "loaded_model = BERTopic.load(bertopic_model_path)"
   ]
  },
  {
   "cell_type": "markdown",
   "id": "81abe77b-1b35-4e08-9cbc-632e8785b332",
   "metadata": {},
   "source": [
    "## Inference"
   ]
  },
  {
   "cell_type": "code",
   "execution_count": 8,
   "id": "192f0fa3-8363-4040-af4a-4325b5712d14",
   "metadata": {},
   "outputs": [],
   "source": [
    "from bertopic._utils import MyLogger\n",
    "logger = MyLogger(\"ERROR\")\n",
    "loaded_model.verbose = False"
   ]
  },
  {
   "cell_type": "code",
   "execution_count": 9,
   "id": "f6387687-fcdc-45b2-8aec-f845c1295227",
   "metadata": {},
   "outputs": [],
   "source": [
    "# Use the trained BERTopic model to classify the new data\n",
    "# This may take awhile to run depending on the new data size\n",
    "topics, probabilities = loaded_model.transform(docs)"
   ]
  },
  {
   "cell_type": "code",
   "execution_count": 10,
   "id": "09dff55e-9a37-42f5-9e89-2e3bbfc76289",
   "metadata": {},
   "outputs": [
    {
     "data": {
      "text/html": [
       "<div>\n",
       "<style scoped>\n",
       "    .dataframe tbody tr th:only-of-type {\n",
       "        vertical-align: middle;\n",
       "    }\n",
       "\n",
       "    .dataframe tbody tr th {\n",
       "        vertical-align: top;\n",
       "    }\n",
       "\n",
       "    .dataframe thead th {\n",
       "        text-align: right;\n",
       "    }\n",
       "</style>\n",
       "<table border=\"1\" class=\"dataframe\">\n",
       "  <thead>\n",
       "    <tr style=\"text-align: right;\">\n",
       "      <th></th>\n",
       "      <th>Topic</th>\n",
       "      <th>Count</th>\n",
       "      <th>Name</th>\n",
       "      <th>Representation</th>\n",
       "      <th>Aspect1</th>\n",
       "      <th>Representative_Docs</th>\n",
       "    </tr>\n",
       "  </thead>\n",
       "  <tbody>\n",
       "    <tr>\n",
       "      <th>0</th>\n",
       "      <td>-1</td>\n",
       "      <td>3580</td>\n",
       "      <td>0_\"Public Inquiry Calls to 911\"assistant\\n\\nIt...</td>\n",
       "      <td>[\"Public Inquiry Calls to 911\"assistant\\n\\nIt ...</td>\n",
       "      <td>NaN</td>\n",
       "      <td>NaN</td>\n",
       "    </tr>\n",
       "    <tr>\n",
       "      <th>1</th>\n",
       "      <td>0</td>\n",
       "      <td>82</td>\n",
       "      <td>HARASSMENT/THREATS</td>\n",
       "      <td>[\"Online Harassment\"assistant\\n\\nBased on the ...</td>\n",
       "      <td>[description behavior criminal, harassment, ca...</td>\n",
       "      <td>NaN</td>\n",
       "    </tr>\n",
       "    <tr>\n",
       "      <th>2</th>\n",
       "      <td>1</td>\n",
       "      <td>29</td>\n",
       "      <td>FRAUD</td>\n",
       "      <td>[Fraud Investigation Reportsassistant\\n\\nTopic...</td>\n",
       "      <td>[offense fraud defraud, fraud priority level, ...</td>\n",
       "      <td>NaN</td>\n",
       "    </tr>\n",
       "    <tr>\n",
       "      <th>3</th>\n",
       "      <td>2</td>\n",
       "      <td>29</td>\n",
       "      <td>THEFT</td>\n",
       "      <td>[Theft Incident Reportsassistant\\n\\nBased on t...</td>\n",
       "      <td>[theft priority level, offense theft 5000, off...</td>\n",
       "      <td>NaN</td>\n",
       "    </tr>\n",
       "    <tr>\n",
       "      <th>4</th>\n",
       "      <td>3</td>\n",
       "      <td>17</td>\n",
       "      <td>ASSAULT</td>\n",
       "      <td>[\"Assault and Complaints\"assistant\\n\\nBased on...</td>\n",
       "      <td>[complaint assault, chief complaint assault, a...</td>\n",
       "      <td>NaN</td>\n",
       "    </tr>\n",
       "    <tr>\n",
       "      <th>...</th>\n",
       "      <td>...</td>\n",
       "      <td>...</td>\n",
       "      <td>...</td>\n",
       "      <td>...</td>\n",
       "      <td>...</td>\n",
       "      <td>...</td>\n",
       "    </tr>\n",
       "    <tr>\n",
       "      <th>71</th>\n",
       "      <td>70</td>\n",
       "      <td>27</td>\n",
       "      <td>64_Custody Issue Incidentsassistant\\n\\nBased o...</td>\n",
       "      <td>[Custody Issue Incidentsassistant\\n\\nBased on ...</td>\n",
       "      <td>[description behavior criminal, behavior crimi...</td>\n",
       "      <td>NaN</td>\n",
       "    </tr>\n",
       "    <tr>\n",
       "      <th>72</th>\n",
       "      <td>71</td>\n",
       "      <td>27</td>\n",
       "      <td>65_\"Police Officer Reports Without Timers\"assi...</td>\n",
       "      <td>[\"Police Officer Reports Without Timers\"assist...</td>\n",
       "      <td>[incident involves custody, custody issue disp...</td>\n",
       "      <td>NaN</td>\n",
       "    </tr>\n",
       "    <tr>\n",
       "      <th>73</th>\n",
       "      <td>72</td>\n",
       "      <td>26</td>\n",
       "      <td>66_\"Protest Events in Calgary\"assistant\\n\\nBas...</td>\n",
       "      <td>[\"Protest Events in Calgary\"assistant\\n\\nBased...</td>\n",
       "      <td>[description behavior criminal, behavior crimi...</td>\n",
       "      <td>NaN</td>\n",
       "    </tr>\n",
       "    <tr>\n",
       "      <th>74</th>\n",
       "      <td>73</td>\n",
       "      <td>25</td>\n",
       "      <td>67_\"Regimental Number Officer Response Events\"...</td>\n",
       "      <td>[\"Regimental Number Officer Response Events\"as...</td>\n",
       "      <td>[protesters, description behavior criminal, 91...</td>\n",
       "      <td>NaN</td>\n",
       "    </tr>\n",
       "    <tr>\n",
       "      <th>75</th>\n",
       "      <td>74</td>\n",
       "      <td>25</td>\n",
       "      <td>68_\"Constable/Officer Call Log\"assistant\\n\\nI'...</td>\n",
       "      <td>[\"Constable/Officer Call Log\"assistant\\n\\nI'd,...</td>\n",
       "      <td>[description behavior criminal, number officer...</td>\n",
       "      <td>NaN</td>\n",
       "    </tr>\n",
       "  </tbody>\n",
       "</table>\n",
       "<p>76 rows × 6 columns</p>\n",
       "</div>"
      ],
      "text/plain": [
       "    Topic  Count                                               Name  \\\n",
       "0      -1   3580  0_\"Public Inquiry Calls to 911\"assistant\\n\\nIt...   \n",
       "1       0     82                                 HARASSMENT/THREATS   \n",
       "2       1     29                                              FRAUD   \n",
       "3       2     29                                              THEFT   \n",
       "4       3     17                                            ASSAULT   \n",
       "..    ...    ...                                                ...   \n",
       "71     70     27  64_Custody Issue Incidentsassistant\\n\\nBased o...   \n",
       "72     71     27  65_\"Police Officer Reports Without Timers\"assi...   \n",
       "73     72     26  66_\"Protest Events in Calgary\"assistant\\n\\nBas...   \n",
       "74     73     25  67_\"Regimental Number Officer Response Events\"...   \n",
       "75     74     25  68_\"Constable/Officer Call Log\"assistant\\n\\nI'...   \n",
       "\n",
       "                                       Representation  \\\n",
       "0   [\"Public Inquiry Calls to 911\"assistant\\n\\nIt ...   \n",
       "1   [\"Online Harassment\"assistant\\n\\nBased on the ...   \n",
       "2   [Fraud Investigation Reportsassistant\\n\\nTopic...   \n",
       "3   [Theft Incident Reportsassistant\\n\\nBased on t...   \n",
       "4   [\"Assault and Complaints\"assistant\\n\\nBased on...   \n",
       "..                                                ...   \n",
       "71  [Custody Issue Incidentsassistant\\n\\nBased on ...   \n",
       "72  [\"Police Officer Reports Without Timers\"assist...   \n",
       "73  [\"Protest Events in Calgary\"assistant\\n\\nBased...   \n",
       "74  [\"Regimental Number Officer Response Events\"as...   \n",
       "75  [\"Constable/Officer Call Log\"assistant\\n\\nI'd,...   \n",
       "\n",
       "                                              Aspect1  Representative_Docs  \n",
       "0                                                 NaN                  NaN  \n",
       "1   [description behavior criminal, harassment, ca...                  NaN  \n",
       "2   [offense fraud defraud, fraud priority level, ...                  NaN  \n",
       "3   [theft priority level, offense theft 5000, off...                  NaN  \n",
       "4   [complaint assault, chief complaint assault, a...                  NaN  \n",
       "..                                                ...                  ...  \n",
       "71  [description behavior criminal, behavior crimi...                  NaN  \n",
       "72  [incident involves custody, custody issue disp...                  NaN  \n",
       "73  [description behavior criminal, behavior crimi...                  NaN  \n",
       "74  [protesters, description behavior criminal, 91...                  NaN  \n",
       "75  [description behavior criminal, number officer...                  NaN  \n",
       "\n",
       "[76 rows x 6 columns]"
      ]
     },
     "metadata": {},
     "output_type": "display_data"
    }
   ],
   "source": [
    "topic_df = loaded_model.get_topic_info()\n",
    "display(topic_df)"
   ]
  },
  {
   "cell_type": "code",
   "execution_count": 11,
   "id": "de9d6c25-3e53-4829-8b1b-7b61797102fd",
   "metadata": {},
   "outputs": [],
   "source": [
    "# save infered topics to the original dataframe\n",
    "df[\"Topic\"] = topics\n",
    "\n",
    "# merge topic info into the original dataframe as well\n",
    "infered_df = df.merge(topic_df[[\"Topic\", \"Name\", \"Representation\",\"Aspect1\"]], how=\"left\", on=\"Topic\")"
   ]
  },
  {
   "cell_type": "markdown",
   "id": "6ee01ed0-a9f8-4391-a1db-9d8e37adacfb",
   "metadata": {},
   "source": [
    "## Output new data with infered topics by BERTopic Model"
   ]
  },
  {
   "cell_type": "code",
   "execution_count": 12,
   "id": "9f1c8e42-6f16-4a10-8ff1-5d5d28e98030",
   "metadata": {},
   "outputs": [],
   "source": [
    "# output the new data with topics assigned by our trained BERTopic Model\n",
    "output_file_name = \"../results/bertopic_infered_new_data.xlsx\" # Please change the output path and file name as you see fit\n",
    "infered_df.to_excel(output_file_name,index=False)"
   ]
  },
  {
   "cell_type": "code",
   "execution_count": null,
   "id": "0f06bb06-cbe1-4152-949a-384c76687afc",
   "metadata": {},
   "outputs": [],
   "source": []
  }
 ],
 "metadata": {
  "kernelspec": {
   "display_name": "Python 3 (ipykernel)",
   "language": "python",
   "name": "python3"
  },
  "language_info": {
   "codemirror_mode": {
    "name": "ipython",
    "version": 3
   },
   "file_extension": ".py",
   "mimetype": "text/x-python",
   "name": "python",
   "nbconvert_exporter": "python",
   "pygments_lexer": "ipython3",
   "version": "3.11.9"
  }
 },
 "nbformat": 4,
 "nbformat_minor": 5
}
