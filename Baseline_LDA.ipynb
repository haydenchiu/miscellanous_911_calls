{
 "cells": [
  {
   "cell_type": "markdown",
   "id": "8e1c693e-4312-447d-b9a8-5588ef37afa3",
   "metadata": {},
   "source": [
    "# Baseline Model\n",
    "## Topic Modeling LDA"
   ]
  },
  {
   "cell_type": "code",
   "execution_count": 1,
   "id": "23f07a42-58dc-45e0-921e-5d65a5c83dac",
   "metadata": {},
   "outputs": [],
   "source": [
    "import preprocess\n",
    "import numpy as np\n",
    "from sklearn.feature_extraction.text import CountVectorizer, TfidfVectorizer\n",
    "from sklearn.decomposition import LatentDirichletAllocation\n",
    "import matplotlib.pyplot as plt\n",
    "import joblib"
   ]
  },
  {
   "cell_type": "code",
   "execution_count": 2,
   "id": "cf522703-2b38-49cb-be0f-1f3983867d39",
   "metadata": {},
   "outputs": [],
   "source": [
    "data = preprocess.read_encrypted_data()\n",
    "df = preprocess.reformat_data(data)"
   ]
  },
  {
   "cell_type": "code",
   "execution_count": 3,
   "id": "a0f4904b-a0d4-4717-92cb-55898ce552ca",
   "metadata": {},
   "outputs": [],
   "source": [
    "# vectorizer = TfidfVectorizer(lowercase = True, min_df = 10, max_df = 0.2, ngram_range=(1, 4), stop_words=\"english\")\n",
    "vectorizer = CountVectorizer(lowercase = True, min_df = 10, max_df = 0.2, stop_words=\"english\", ngram_range=(1, 4))\n",
    "Text_X = vectorizer.fit_transform(df[\"Event_Remarks_Text\"])"
   ]
  },
  {
   "cell_type": "code",
   "execution_count": 4,
   "id": "a153fe92-ba65-490b-bc10-884a6c082b6e",
   "metadata": {
    "scrolled": true
   },
   "outputs": [
    {
     "name": "stdout",
     "output_type": "stream",
     "text": [
      "iteration: 1 of max_iter: 100, perplexity: 2057.4085\n",
      "iteration: 2 of max_iter: 100, perplexity: 1302.2050\n",
      "iteration: 3 of max_iter: 100, perplexity: 967.5409\n",
      "iteration: 4 of max_iter: 100, perplexity: 799.4137\n",
      "iteration: 5 of max_iter: 100, perplexity: 709.5227\n",
      "iteration: 6 of max_iter: 100, perplexity: 659.9968\n",
      "iteration: 7 of max_iter: 100, perplexity: 630.8100\n",
      "iteration: 8 of max_iter: 100, perplexity: 612.8509\n",
      "iteration: 9 of max_iter: 100, perplexity: 601.2757\n",
      "iteration: 10 of max_iter: 100, perplexity: 593.7607\n",
      "iteration: 11 of max_iter: 100, perplexity: 588.2255\n",
      "iteration: 12 of max_iter: 100, perplexity: 584.0048\n",
      "iteration: 13 of max_iter: 100, perplexity: 580.9729\n",
      "iteration: 14 of max_iter: 100, perplexity: 578.3829\n",
      "iteration: 15 of max_iter: 100, perplexity: 576.3607\n",
      "iteration: 16 of max_iter: 100, perplexity: 574.8191\n",
      "iteration: 17 of max_iter: 100, perplexity: 573.1889\n",
      "iteration: 18 of max_iter: 100, perplexity: 571.7333\n",
      "iteration: 19 of max_iter: 100, perplexity: 570.5756\n",
      "iteration: 20 of max_iter: 100, perplexity: 569.5420\n",
      "iteration: 21 of max_iter: 100, perplexity: 568.5651\n",
      "iteration: 22 of max_iter: 100, perplexity: 567.6989\n",
      "iteration: 23 of max_iter: 100, perplexity: 567.0108\n",
      "iteration: 24 of max_iter: 100, perplexity: 566.3833\n",
      "iteration: 25 of max_iter: 100, perplexity: 565.5958\n",
      "iteration: 26 of max_iter: 100, perplexity: 564.8917\n",
      "iteration: 27 of max_iter: 100, perplexity: 564.3191\n",
      "iteration: 28 of max_iter: 100, perplexity: 563.8154\n",
      "iteration: 29 of max_iter: 100, perplexity: 563.3847\n",
      "iteration: 30 of max_iter: 100, perplexity: 562.9896\n",
      "iteration: 31 of max_iter: 100, perplexity: 562.5215\n",
      "iteration: 32 of max_iter: 100, perplexity: 562.1073\n",
      "iteration: 33 of max_iter: 100, perplexity: 561.6973\n",
      "iteration: 34 of max_iter: 100, perplexity: 561.3045\n",
      "iteration: 35 of max_iter: 100, perplexity: 560.9734\n",
      "iteration: 36 of max_iter: 100, perplexity: 560.5765\n",
      "iteration: 37 of max_iter: 100, perplexity: 560.2842\n",
      "iteration: 38 of max_iter: 100, perplexity: 560.0975\n",
      "iteration: 39 of max_iter: 100, perplexity: 559.8155\n",
      "iteration: 40 of max_iter: 100, perplexity: 559.4581\n",
      "iteration: 41 of max_iter: 100, perplexity: 559.2459\n",
      "iteration: 42 of max_iter: 100, perplexity: 559.0627\n",
      "iteration: 43 of max_iter: 100, perplexity: 558.8623\n",
      "iteration: 44 of max_iter: 100, perplexity: 558.6143\n",
      "iteration: 45 of max_iter: 100, perplexity: 558.4333\n",
      "iteration: 46 of max_iter: 100, perplexity: 558.2342\n",
      "iteration: 47 of max_iter: 100, perplexity: 558.1050\n",
      "iteration: 48 of max_iter: 100, perplexity: 557.9815\n",
      "iteration: 49 of max_iter: 100, perplexity: 557.7739\n",
      "iteration: 50 of max_iter: 100, perplexity: 557.7242\n"
     ]
    }
   ],
   "source": [
    "lda = LatentDirichletAllocation(n_components=30, max_iter=100, learning_method='online', \n",
    "                                random_state=0, verbose=2, evaluate_every=1)\n",
    "\n",
    "theta = lda.fit_transform(Text_X.A)"
   ]
  },
  {
   "cell_type": "code",
   "execution_count": 5,
   "id": "4763e3cf-89ef-44fe-9707-579e93c24a9d",
   "metadata": {
    "scrolled": true
   },
   "outputs": [
    {
     "name": "stdout",
     "output_type": "stream",
     "text": [
      "topic: 0\n",
      "psuedo count: 85.37552416368533\n",
      "['39', '08']\n",
      "\n",
      "\n",
      "topic: 1\n",
      "psuedo count: 147.37372817096053\n",
      "['reviewed 9903', '9903', 'said']\n",
      "\n",
      "\n",
      "topic: 2\n",
      "psuedo count: 4522.9935797512735\n",
      "['eco', 'said', 'stated', 'wanted', 'phone', 'event info', 'accept advised event info', 'advised event info', 'calling', 'asked', 'line', 'did', 'says', '911', 'non']\n",
      "\n",
      "\n",
      "topic: 3\n",
      "psuedo count: 34.905090668118035\n",
      "[]\n",
      "\n",
      "\n",
      "topic: 4\n",
      "psuedo count: 79.75226146158373\n",
      "['arrest', '32', '37']\n",
      "\n",
      "\n",
      "topic: 5\n",
      "psuedo count: 4095.8809077584183\n",
      "['comp', 'veh', 'vehicle', 'says', 'phone', 'number', 'contact', 'report', 'hrs', 'today', 'plate', 'stolen', 'just', 'cancel', 'time']\n",
      "\n",
      "\n",
      "topic: 6\n",
      "psuedo count: 65.33518094007734\n",
      "['transporting', 'transport']\n",
      "\n",
      "\n",
      "topic: 7\n",
      "psuedo count: 6297.057929999677\n",
      "['miscellaneous', 'incident', 'scene', 'vehicle', 'changed', 'suspect', 'type', 'person', 'caller scene', 'chief', 'description', 'cad', 'chief complaint', 'type changed', 'event type']\n",
      "\n",
      "\n",
      "topic: 8\n",
      "psuedo count: 2035.9903900367312\n",
      "['urgent', 'request', 'urgent request', 'scene', 'caller scene', 'non', 'non urgent', 'non urgent request', 'suspect', 'complaint', 'chief complaint', 'chief', 'person', 'suspect person', 'problem']\n",
      "\n",
      "\n",
      "topic: 9\n",
      "psuedo count: 34.905100572771296\n",
      "[]\n",
      "\n",
      "\n",
      "topic: 10\n",
      "psuedo count: 294.8011554619816\n",
      "['90003', 'rev', '90003 rev', '01 01', '2023 01 01', 'mail', 'landlord', 'xref', 'eco', 'wants', 'access']\n",
      "\n",
      "\n",
      "topic: 11\n",
      "psuedo count: 271.3166885159737\n",
      "['cst', 'email', 'cst redacted', '9988', 'reviewed 9988', 'items', 'reg', 'gave', 'left', 'comp', 'eco', 'redacted mobil', 'mobil']\n",
      "\n",
      "\n",
      "topic: 12\n",
      "psuedo count: 2036.9686688811826\n",
      "['access', 'area', 'access area', 'cards', 'event special', 'accept advised event special', 'advised event special', 'advised event special address', 'event special address comment', 'event special address', 'allow', 'certain', 'comment restricted access area', 'certain access cards', 'certain access cards allow']\n",
      "\n",
      "\n",
      "topic: 13\n",
      "psuedo count: 127.55893211726794\n",
      "['wir', 'redacted wir', 'served', 'inside', 'years']\n",
      "\n",
      "\n",
      "topic: 14\n",
      "psuedo count: 7136.850760361658\n",
      "['domestic', 'disturbance', 'verbal', 'involved', 'domestic disturbance', 'changed', 'incident', 'scene', 'suspect', 'miscellaneous', 'sentry', 'caller scene', 'ex', '1011', 'verbal domestic']\n",
      "\n",
      "\n",
      "topic: 15\n",
      "psuedo count: 2304.96254141837\n",
      "['offr', 'timers', 'cad', '06', '01 06', '2023 01 06', 'door', 'x99', '05', 'shows', 'civil', '2023 01 05', '01 05', 'matter', '11']\n",
      "\n",
      "\n",
      "topic: 16\n",
      "psuedo count: 34.904969648435475\n",
      "[]\n",
      "\n",
      "\n",
      "topic: 17\n",
      "psuedo count: 175.43809167539416\n",
      "['transferred', 'cps cps', 'transferred cps cps', 'transferred cps']\n",
      "\n",
      "\n",
      "topic: 18\n",
      "psuedo count: 34.90511444591686\n",
      "[]\n",
      "\n",
      "\n",
      "topic: 19\n",
      "psuedo count: 65.95381269016846\n",
      "['pss', 'upset', 'close']\n",
      "\n",
      "\n",
      "topic: 20\n",
      "psuedo count: 1517.81166982569\n",
      "['02', '01 02', 'changed', '2023 01 02', 'priority', 'changed 2023 01', 'priority changed 2023 01', 'priority changed 2023', 'event priority changed', 'event priority changed 2023', 'changed 2023', 'event priority', 'priority changed', 'miscellaneous', '01 01']\n",
      "\n",
      "\n",
      "topic: 21\n",
      "psuedo count: 289.2476578948666\n",
      "['bldg', 'lb', 'main', 'east', 'calgary', 'entrance', 'bldg redacted', 'south', 'set', 'comment lb', 'special address comment lb', 'address comment lb', 'park', 'site']\n",
      "\n",
      "\n",
      "topic: 22\n",
      "psuedo count: 1268.0117015473413\n",
      "['report', 'order', 'file', 'case', 'vic', 'ex', 'officer', 'contact', 'number', 'court', 'information', 'complaint', 'online', 'yesterday', 'issue']\n",
      "\n",
      "\n",
      "topic: 23\n",
      "psuedo count: 101.7868400669357\n",
      "['parking', 'lot', 'parking lot']\n",
      "\n",
      "\n",
      "topic: 24\n",
      "psuedo count: 876.6294386633415\n",
      "['floors', 'number floors', 'accept advised event special', 'event special address comment', 'advised event special', 'event special address', 'event special', 'advised event special address', 'comment number floors', 'special address comment number', 'address comment number floors', 'comment number', 'address comment number', 'number', 'aed']\n",
      "\n",
      "\n",
      "topic: 25\n",
      "psuedo count: 101.11207527476687\n",
      "['min']\n",
      "\n",
      "\n",
      "topic: 26\n",
      "psuedo count: 1313.5731290888266\n",
      "['check', 'dog', 'calling', 'comments', 'event advised', 'reviewed 9935', '9935', 'advised event advised', 'accept advised event advised', 'landlord', 'phone', 'welfare', 'tenant', 'check welfare', 'accept advised event comments']\n",
      "\n",
      "\n",
      "topic: 27\n",
      "psuedo count: 582.0853009751121\n",
      "['reason', 'abort reason', 'abort', 'does', 'driver', 'offr', 'meet', 'problem', 'dispatch', 'does meet', 'criteria', 'meet dispatch criteria', 'dispatch criteria', 'reason does meet', 'abort reason does']\n",
      "\n",
      "\n",
      "topic: 28\n",
      "psuedo count: 1073.6793885616498\n",
      "['07', '01 07', '2023 01 07', '04', '03', '2023 01 04', '01 04', '01 03', '2023 01 03', 'reopened', 'reopened 2023', 'reopened 2023 01', '09', 'xref', '57']\n",
      "\n",
      "\n",
      "topic: 29\n",
      "psuedo count: 39.05193605295147\n",
      "[]\n",
      "\n",
      "\n"
     ]
    }
   ],
   "source": [
    "beta = lda.components_/np.sum(lda.components_,axis=1,keepdims=True)\n",
    "max_words = np.argsort(-beta, axis=1)[:,:15]\n",
    "features = vectorizer.get_feature_names_out()\n",
    "\n",
    "for i in range(lda.components_.shape[0]):\n",
    "    print(f\"topic: {i}\")\n",
    "    print(f\"psuedo count: {lda.components_[i].sum()}\")\n",
    "    print([features[ind] for ind in max_words[i] if lda.components_[i, ind] >= 5])\n",
    "    print('\\n')"
   ]
  },
  {
   "cell_type": "markdown",
   "id": "d787e161-2bab-4b6a-9faa-8f9325b0bc68",
   "metadata": {},
   "source": [
    "## Number of topic fine tuning"
   ]
  },
  {
   "cell_type": "code",
   "execution_count": 6,
   "id": "7b7e8938-1fa9-4474-a8c9-460d6d0f4298",
   "metadata": {},
   "outputs": [
    {
     "name": "stdout",
     "output_type": "stream",
     "text": [
      "Number of topics: 2, Perplexity: 651.3982405252888\n",
      "Number of topics: 3, Perplexity: 579.4201157951262\n",
      "Number of topics: 4, Perplexity: 564.4037335691593\n",
      "Number of topics: 5, Perplexity: 557.8057880675454\n",
      "Number of topics: 6, Perplexity: 561.3630226173086\n",
      "Number of topics: 7, Perplexity: 559.61354312992\n",
      "Number of topics: 8, Perplexity: 547.7718053269233\n",
      "Number of topics: 9, Perplexity: 530.6759991338868\n",
      "Number of topics: 10, Perplexity: 536.7089704244801\n",
      "Number of topics: 11, Perplexity: 541.6066894382934\n",
      "Number of topics: 12, Perplexity: 539.820311625946\n",
      "Number of topics: 13, Perplexity: 547.3397152257271\n",
      "Number of topics: 14, Perplexity: 542.957205360809\n",
      "Number of topics: 15, Perplexity: 537.8737933701686\n",
      "Number of topics: 16, Perplexity: 536.1757195900501\n",
      "Number of topics: 17, Perplexity: 542.540445122378\n",
      "Number of topics: 18, Perplexity: 531.1530946547681\n",
      "Number of topics: 19, Perplexity: 534.7723252595276\n",
      "Number of topics: 20, Perplexity: 549.7464161892306\n"
     ]
    }
   ],
   "source": [
    "# the range of topic numbers to test\n",
    "topic_numbers = range(2, 21, 1)\n",
    "\n",
    "# Fit LDA models and compute perplexity\n",
    "perplexities = []\n",
    "best_lda = None\n",
    "best_theta = None\n",
    "best_perplexity = np.inf\n",
    "\n",
    "for n in topic_numbers:\n",
    "    lda = LatentDirichletAllocation(n_components=n, max_iter=100, learning_method='online', \n",
    "                                    random_state=0, evaluate_every=1)\n",
    "    theta = lda.fit_transform(Text_X.A)\n",
    "    perplexities.append(lda.perplexity(Text_X))\n",
    "    print(f\"Number of topics: {n}, Perplexity: {lda.perplexity(Text_X)}\")\n",
    "    \n",
    "    # pocket the best lda\n",
    "    if lda.perplexity(Text_X) < best_perplexity:\n",
    "        best_lda = lda\n",
    "        best_theta = theta\n",
    "        best_perplexity = lda.perplexity(Text_X)"
   ]
  },
  {
   "cell_type": "code",
   "execution_count": 7,
   "id": "8e656b09-7db9-4155-b9e8-07c274d866f0",
   "metadata": {},
   "outputs": [
    {
     "data": {
      "image/png": "[encoded data removed]",
      "text/plain": [
       "<Figure size 1000x600 with 1 Axes>"
      ]
     },
     "metadata": {},
     "output_type": "display_data"
    }
   ],
   "source": [
    "# Visualize the elbow plot\n",
    "plt.figure(figsize=(10, 6))\n",
    "plt.plot(topic_numbers, perplexities, marker='o')\n",
    "plt.xlabel('Number of Topics')\n",
    "plt.ylabel('Perplexity')\n",
    "plt.xticks(np.arange(0, 20, step=1))\n",
    "plt.title('Elbow Method for Optimal Number of Topics')\n",
    "plt.grid()\n",
    "plt.show()"
   ]
  },
  {
   "cell_type": "code",
   "execution_count": 8,
   "id": "bd616ca6-e5ae-4e74-8035-608f54b5541c",
   "metadata": {
    "scrolled": true
   },
   "outputs": [
    {
     "name": "stdout",
     "output_type": "stream",
     "text": [
      "topic: 0\n",
      "psuedo count: 7664.575701409167\n",
      "['domestic', 'disturbance', 'verbal', 'domestic disturbance', 'changed', 'involved', 'incident', 'miscellaneous', 'scene', 'ex', 'suspect', 'sentry', 'caller scene', 'verbal domestic', 'verbal domestic disturbance']\n",
      "\n",
      "\n",
      "topic: 1\n",
      "psuedo count: 2157.4526345576523\n",
      "['access', 'area', 'access area', 'allow', 'cards', 'certain', 'event special', 'advised event special', 'event special address comment', 'advised event special address', 'event special address', 'accept advised event special', 'certain access', 'address comment restricted', 'access cards allow access']\n",
      "\n",
      "\n",
      "topic: 2\n",
      "psuedo count: 10305.656740739483\n",
      "['eco', 'said', 'comp', 'phone', 'number', 'stated', 'calling', 'says', 'officer', 'wanted', 'report', 'contact', 'just', 'wants', 'time']\n",
      "\n",
      "\n",
      "topic: 3\n",
      "psuedo count: 767.4515850685127\n",
      "['accept advised event special', 'advised event special address', 'event special address comment', 'event special', 'advised event special', 'event special address', 'cst redacted', 'cst', 'event comments', 'accept advised event comments', 'advised event comments', 'comments', 'aed', 'comment aed', 'special address comment aed']\n",
      "\n",
      "\n",
      "topic: 4\n",
      "psuedo count: 860.2930274950911\n",
      "['timers', 'cad', 'ems', 'x99', 'bldg', 'male', 'backup', 'lb', 'door', 'east', 'main', 'entrance', 'd121', 'xref', 'bldg redacted']\n",
      "\n",
      "\n",
      "topic: 5\n",
      "psuedo count: 3643.315328724199\n",
      "['veh', '02', 'vehicle', '03', 'plate', 'stolen', 'cancel', '01 02', '2023 01 02', '01 03', 'primary', '05', '09', 'driver', '2023 01 03']\n",
      "\n",
      "\n",
      "topic: 6\n",
      "psuedo count: 640.4351085003595\n",
      "['floors', 'number floors', 'number', 'special address comment number', 'comment number floors', 'address comment number floors', 'address comment number', 'comment number', 'timers', 'loi', 'security', 'advise', 'redacted timers', 'lb', 'access']\n",
      "\n",
      "\n",
      "topic: 7\n",
      "psuedo count: 8024.475513446053\n",
      "['changed', 'miscellaneous', 'type', 'vehicle', 'incident', 'scene', 'event type', 'type changed', 'event type changed', 'miscellaneous miscellaneous', 'miscellaneous miscellaneous 2023', 'miscellaneous 2023 01', 'miscellaneous miscellaneous 2023 01', 'miscellaneous 2023', 'suspect']\n",
      "\n",
      "\n",
      "topic: 8\n",
      "psuedo count: 2967.6495364021403\n",
      "['request', 'urgent', 'scene', 'caller scene', 'urgent request', 'non', 'suspect', 'complaint', 'non urgent', 'person', 'non urgent request', 'chief complaint', 'chief', 'suspect person', 'problem']\n",
      "\n",
      "\n"
     ]
    }
   ],
   "source": [
    "beta = best_lda.components_/np.sum(best_lda.components_,axis=1,keepdims=True)\n",
    "max_words = np.argsort(-beta, axis=1)[:,:15]\n",
    "features = vectorizer.get_feature_names_out()\n",
    "\n",
    "for i in range(best_lda.components_.shape[0]):\n",
    "    print(f\"topic: {i}\")\n",
    "    print(f\"psuedo count: {best_lda.components_[i].sum()}\")\n",
    "    print([features[ind] for ind in max_words[i] if best_lda.components_[i, ind] >= 5])\n",
    "    print('\\n')"
   ]
  },
  {
   "cell_type": "markdown",
   "id": "eb166a6d-8e40-4f5d-bb1d-659313640857",
   "metadata": {},
   "source": [
    "# Dump the best model"
   ]
  },
  {
   "cell_type": "code",
   "execution_count": 9,
   "id": "af8f03ff-8222-4cbc-a7f0-618fa30d6580",
   "metadata": {},
   "outputs": [],
   "source": [
    "# joblib.dump(best_theta, \"data/best_theta.jl\")\n",
    "# joblib.dump(best_lda, \"data/best_lda.jl\")"
   ]
  },
  {
   "cell_type": "code",
   "execution_count": 10,
   "id": "707b37e7-19ba-4110-b769-d6e0cd618070",
   "metadata": {},
   "outputs": [],
   "source": [
    "# lda = joblib.load(\"data/best_lda.jl\")\n",
    "# theta = joblib.load(\"data/best_theta.jl\")"
   ]
  },
  {
   "cell_type": "markdown",
   "id": "fcb03bad-1f0d-496d-9d4d-b5c96ef71fd9",
   "metadata": {},
   "source": [
    "# Pick appropriate topic labels"
   ]
  },
  {
   "cell_type": "code",
   "execution_count": 36,
   "id": "cbfb1665-959e-4e77-886b-40aa94cc24ab",
   "metadata": {},
   "outputs": [
    {
     "name": "stdout",
     "output_type": "stream",
     "text": [
      "topic: disturbance\n",
      "psuedo count: 7664.575701409167\n",
      "['domestic', 'disturbance', 'verbal', 'domestic disturbance', 'changed', 'involved', 'incident', 'miscellaneous', 'scene', 'ex', 'suspect', 'sentry', 'caller scene', 'verbal domestic', 'verbal domestic disturbance']\n",
      "\n",
      "\n",
      "topic: access area\n",
      "psuedo count: 2157.4526345576523\n",
      "['access', 'area', 'access area', 'allow', 'cards', 'certain', 'event special', 'advised event special', 'event special address comment', 'advised event special address', 'event special address', 'accept advised event special', 'certain access', 'address comment restricted', 'access cards allow access']\n",
      "\n",
      "\n",
      "topic: report contact\n",
      "psuedo count: 10305.656740739483\n",
      "['eco', 'said', 'comp', 'phone', 'number', 'stated', 'calling', 'says', 'officer', 'wanted', 'report', 'contact', 'just', 'wants', 'time']\n",
      "\n",
      "\n",
      "topic: advised event\n",
      "psuedo count: 767.4515850685127\n",
      "['accept advised event special', 'advised event special address', 'event special address comment', 'event special', 'advised event special', 'event special address', 'cst redacted', 'cst', 'event comments', 'accept advised event comments', 'advised event comments', 'comments', 'aed', 'comment aed', 'special address comment aed']\n",
      "\n",
      "\n",
      "topic: miscellaneous\n",
      "psuedo count: 860.2930274950911\n",
      "['timers', 'cad', 'ems', 'x99', 'bldg', 'male', 'backup', 'lb', 'door', 'east', 'main', 'entrance', 'd121', 'xref', 'bldg redacted']\n",
      "\n",
      "\n",
      "topic: vehicle\n",
      "psuedo count: 3643.315328724199\n",
      "['veh', '02', 'vehicle', '03', 'plate', 'stolen', 'cancel', '01 02', '2023 01 02', '01 03', 'primary', '05', '09', 'driver', '2023 01 03']\n",
      "\n",
      "\n",
      "topic: number floors\n",
      "psuedo count: 640.4351085003595\n",
      "['floors', 'number floors', 'number', 'special address comment number', 'comment number floors', 'address comment number floors', 'address comment number', 'comment number', 'timers', 'loi', 'security', 'advise', 'redacted timers', 'lb', 'access']\n",
      "\n",
      "\n",
      "topic: event type changed\n",
      "psuedo count: 8024.475513446053\n",
      "['changed', 'miscellaneous', 'type', 'vehicle', 'incident', 'scene', 'event type', 'type changed', 'event type changed', 'miscellaneous miscellaneous', 'miscellaneous miscellaneous 2023', 'miscellaneous 2023 01', 'miscellaneous miscellaneous 2023 01', 'miscellaneous 2023', 'suspect']\n",
      "\n",
      "\n",
      "topic: non urgent request\n",
      "psuedo count: 2967.6495364021403\n",
      "['request', 'urgent', 'scene', 'caller scene', 'urgent request', 'non', 'suspect', 'complaint', 'non urgent', 'person', 'non urgent request', 'chief complaint', 'chief', 'suspect person', 'problem']\n",
      "\n",
      "\n"
     ]
    }
   ],
   "source": [
    "topic_dict = {\"disturbance\":0, \"access area\":1, \"report contact\": 2, \"advised event\":3, \"miscellaneous\":4, \"vehicle\":5, \"number floors\":6,\n",
    "             \"event type changed\":7, \"non urgent request\":8}\n",
    "\n",
    "for topic, topic_id in topic_dict.items():\n",
    "    print(f\"topic: {topic}\")\n",
    "    print(f\"psuedo count: {best_lda.components_[topic_id].sum()}\")\n",
    "    print([features[ind] for ind in max_words[topic_id] if best_lda.components_[topic_id, ind] >= 5])\n",
    "    print('\\n')"
   ]
  },
  {
   "cell_type": "markdown",
   "id": "29d56273-a0c3-44ca-bee8-5ce88c68f122",
   "metadata": {},
   "source": [
    "# Document retreival by topic"
   ]
  },
  {
   "cell_type": "code",
   "execution_count": 37,
   "id": "1a675fc5-4ffd-4f48-b348-87b5578f263b",
   "metadata": {},
   "outputs": [],
   "source": [
    "from scipy.stats import zscore\n",
    "\n",
    "def get_top_docs_by_topic(topic_list, n_docs):\n",
    "    MIN_Z_SCORE = 2\n",
    "    \n",
    "    topic_set = set([topic_dict[t] for t in topic_list])\n",
    "    matches = []  # (min() of zscores, post)\n",
    "\n",
    "    for id, text, doc_vector in zip(df[\"Event_Anonymizer\"], df[\"Event_Remarks_Text\"], best_theta):\n",
    "        \n",
    "        zscores = zscore(doc_vector, axis=0)\n",
    "        \n",
    "        top_topics = np.where(zscores >= MIN_Z_SCORE)[0]\n",
    "        \n",
    "        if topic_set.issubset(set(top_topics)):\n",
    "            matches.append((id, text, min(zscores[list(topic_set)])))\n",
    "        \n",
    "    matches.sort(reverse=True,key=lambda x: np.min(x[2]))\n",
    "\n",
    "    return len(matches), [match[0] for match in matches[:n_docs]], [match[1] for match in matches[:n_docs]]"
   ]
  },
  {
   "cell_type": "code",
   "execution_count": 43,
   "id": "c28d4b16-c0c9-44e9-925f-447869075894",
   "metadata": {},
   "outputs": [
    {
     "data": {
      "text/plain": [
       "(284,\n",
       " [202423006704, 202423002551, 202423002132, 202423010338, 202423008122],\n",
       " ['9716',\n",
       "  \"THE SYSTEM HAS SABATOGED HIS LIFE FOR 10 YRS AND HE IS DISTURBED TO KNOW THAT THE SYSTEM IS METHODICALLY MAKING PEOPLE NUTS\\nBECAUSE OF THAT TREATMENT HE NOW HAS PTSD\\nHE IS LOUD AND AIGTATED TONIGHT FROM THE GET-GO\\nNUMEROUS PEOPLE BEHIND THE SCENES HAVE BEEN RUINING HIS LIFE\\nCO DID NOT IDENTIFY HIMSELF - ECO RECOGNIZES HIS [Redacted] AND STORY\\nJUST ASKED IF IT'S [Redacted] AND HE SAID YES AND CHALLENGED ECO - ARE YOU GOING TO GIVE UP AND [Redacted] UP ON ME\\nTHEN ASKED IF ECO IS GOING TO [Redacted] TO [Redacted] HIM 211\\nHE IS OUTSIDE WALKING AROUND BECAUSE HE SAID HE CAN'T SLEEP BECAUSE HIS PTSD IS OUT OF CONTROL TONIGHT\\nASKED HIM IF SOMETHING SPECIFIC HAPPENED AND WHAT HE'S DOING TONIGHT - HE CALMED MOMENTARILY, SAID SORRY FOR YELLING AND SAID HE'S OUT WALKING AND THEN WENT BACK INTO HIS STORY\\nHE HAS WORKED HIMSELF INTO A STATE WHERE HE IS NOW SCREAMING AS LOUD AS HE CAN AND NOT RESPONDING TO THE ECO\\nHE IS REFUSING 211/DISTRESS CENTRE BECAUSE HE SAYS THEY ARE LINKED TO MRT AND HAVE BREACHED HIS PRIVACY\\nSPECIAL ADDRESS COMMENT:\\nWAS ABLE TO INTERUPT HIM AND LET HIM KNOW THAT ECO HAD TO TAKE MORE CALLS AND CONFIRMED THAT WHILE HE IS UPSET HE SAID HE IS NOT AT RISK TONIGHT AND HE SAID SORRY THAT HE DIDN'T WANT TO TAKE AWAY FROM OTHER PEOPLE CALLING IN. SAID THANK YOU AND DISCONNECTED\",\n",
       "  'ML CALLER, SOUNDED POSSIBLY 1012/1038 CALLED, SAID SOMEONE STOLE HIS SHOES. UPON FURTHER PROBING, HE SAID IT WAS A FAMILY MEMBER, THEN SAID IT WAS HIS MOTHER. HE IS 14 YRS OLD. SAID HE PAID FOR THE SHOES\\nASKED WHY MOM TOOK THE SHOES. HE SAID HE DIDN\\'T KNOW. ASKED IF MOM SAID SHE WOULD GIVE THEM BACK. HE SAID NO. FML IN BACKGROUND SAID YES. HE SAID \"SHE SAYS YES.\"\\nASKED TO SPEAK TO MOM. HE SAID \"SHE\\'S NOT HERE.\" FML IN BACKGROUND SAID, \"YES I AM.\" ECO SAID, \"I CAN HEAR HER.\"\\nCALLER [Redacted] UP.\\nMULTIPLE SUBSEQUENT CALLS GO TO VM. POSSIBLE FOR \"[Redacted]\"\\nALL CHECKS ON PH# NEG. NO ML [Redacted] WHO IS 14 YRS OLD IN SENTRY\\nNO ML [Redacted] IN SENTRY AT ALL\\nML CALLED ON NON EMERG\\nAS PER D130 [Redacted], NOT CALLING BACK FURTHER, OR CONTACTING RTOC. ADVISED IS FINE AT THIS TIME\\n90003 REV',\n",
       "  'A FML CALLED FROM 825 882 2969...FROM SENTRY IT SHOWS HER NAME TO BE ETHEL [Redacted]\\nSHE SOUNDS 1012....KEPT RAMBLING ABOUT DIFFERENT THINGS...SAYING THAT SHE LIVES IN CALGARY HOUSING AND NOT SURE WHY SHE IS THERE...SHE WANTED THE PERSON WHO [Redacted] FOR CALGARY HOUSING TO BE FIRED...ADVISED HER THAT CPS CANT FIRE PPL\\n- MENTIONED SHE LIVES IN [Redacted]...FROM SENTRY AA IS HER ADDRESS AS OF 2022..SAYING SHE IS GOING TO THE MEDIA ABOUT THE HOUSE BEING A \"NON PROFIT HOUSING\"...\\n- THEN ASKED ABOUT [Redacted] [Redacted] REG 3579 AND HOW HE WAS DOING...THEN STATED SHE WIL MESSAGE OFFICER [Redacted]....ECO KEPT ASKING HER OVER AND OVER IF SHE NEEDED POLICE AND SHE WOULDNT ANSWER...FINALLY HANGING UP\\nADVISED\\n90034',\n",
       "  'COMP IS AT THE COURTHOUSE GETTING A PCHAD ORDER FOR OFFR (15 YRS)...OFFR [Redacted] AWAY FROM HOME AND TO A FRIENDS PLACE (A/LOC) AND HAS BEEN HERE SINCE\\nAccept Advised Event: FOR INFO\\nCOMP HAS CALLED IN A COUPLE 1043S BEFORE (XREF)...COMP CALLED TODAY AS INTITALLY SHE WONDERED IF POLICE MIGHT CHECK THE LOCATION TO CONFIRM OFFR IS STILL HERE FOR WHEN THE PCHAD ORDER IS PROCESSED AND IN EFFECT\\nECO CLARIFIED - THERE WAS NO SPECIFIC CONCERN FOR OFFRS WELLBEING TODAY, JUST WANTING TO CONFIRM HER LOCATION\\nECO EXPLAINED PCHAD ORDER PROCESS WITH COMP...COMP WAS CONCERNED ABOUT OFFR FLEEING IF THEY BECOME AWARE OF A PCHARD ORDER IN PLACE\\nIT WAS EXPLAINED THAT POLICE ARE FAMILIAR WITH THE PROCESS AND OFTEN ARE DEALING WITH YOUTH THAT DO NOT WANT TO BE TRANSPORTED/ARE A FLEE RISK..COMP WAS REASSURED BY THIS\\nULTIMATELY - CO SETTLED ON WAITING UNTIL SHE HAS THE PCHAD ORDER BEFORE PUTTING A CALL UP FOR POLICE TO ATTEND - SHE AGREED THAT POLICE CONTINUOUSLY SHOWING UP TO THE HOUSE [Redacted] ESCALATE THE SITUATION AND SHE WANTED TO AVOID THIS\\nECO ADVISED COMP THAT WHEN SHE CALLS IN WITH THE PCHAD ORDER, TO EXPLAIN THE SITUATION TO ANY ECO, TO EXPLAIN THE [Redacted] RISK CONCERNS\\nFOR NOW COMP WAS SATISFIED WITH INFORMATION BEING DOCUMENTED IN ADVISED EVENT\\nECO CONFIRMED, THERE IS NO CURRENT SAFETY CONCERNS FOR ANY PARTY INVOLVED, HER CALL WAS MORE FOR INFORMATION ABOUT HOW THE PROCESS [Redacted]\\nPER D120...[Redacted] NO CONCERNS FOR ANYONES WELLBEING OK TO BE DOCUMENTED AS ADVISED\\nreviewed by 9926'])"
      ]
     },
     "execution_count": 43,
     "metadata": {},
     "output_type": "execute_result"
    }
   ],
   "source": [
    "get_top_docs_by_topic(['report contact'], 5)"
   ]
  },
  {
   "cell_type": "code",
   "execution_count": null,
   "id": "726b60bd-a0ac-4202-a15c-81e68250238e",
   "metadata": {},
   "outputs": [],
   "source": []
  }
 ],
 "metadata": {
  "kernelspec": {
   "display_name": "Python [conda env:root] *",
   "language": "python",
   "name": "conda-root-py"
  },
  "language_info": {
   "codemirror_mode": {
    "name": "ipython",
    "version": 3
   },
   "file_extension": ".py",
   "mimetype": "text/x-python",
   "name": "python",
   "nbconvert_exporter": "python",
   "pygments_lexer": "ipython3",
   "version": "3.11.6"
  }
 },
 "nbformat": 4,
 "nbformat_minor": 5
}
